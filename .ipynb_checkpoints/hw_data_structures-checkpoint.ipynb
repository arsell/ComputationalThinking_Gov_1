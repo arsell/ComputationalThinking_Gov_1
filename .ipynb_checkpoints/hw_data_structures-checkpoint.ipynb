{
 "cells": [
  {
   "cell_type": "code",
   "execution_count": 1,
   "metadata": {
    "collapsed": true
   },
   "outputs": [],
   "source": [
    "names=[\"Tomás\", \"Pauline\", \"Pablo\", \"Bjork\",\"Alan\",\"Juana\"]\n",
    "woman=[False,True,False,False,False,True]\n",
    "ages=[32,33,28,30,32,27]\n",
    "country=[\"Chile\", \"Senegal\", \"Spain\", \"Norway\",\"Peru\",\"Peru\"]\n",
    "education=[\"Bach\", \"Bach\", \"Master\", \"PhD\",\"Bach\",\"Master\"]"
   ]
  },
  {
   "cell_type": "code",
   "execution_count": 2,
   "metadata": {
    "collapsed": true
   },
   "outputs": [],
   "source": [
    "data={'names':names, 'woman':woman, 'ages':ages, 'country':country, 'education':education}"
   ]
  },
  {
   "cell_type": "code",
   "execution_count": 3,
   "metadata": {},
   "outputs": [
    {
     "data": {
      "text/html": [
       "<div>\n",
       "<style>\n",
       "    .dataframe thead tr:only-child th {\n",
       "        text-align: right;\n",
       "    }\n",
       "\n",
       "    .dataframe thead th {\n",
       "        text-align: left;\n",
       "    }\n",
       "\n",
       "    .dataframe tbody tr th {\n",
       "        vertical-align: top;\n",
       "    }\n",
       "</style>\n",
       "<table border=\"1\" class=\"dataframe\">\n",
       "  <thead>\n",
       "    <tr style=\"text-align: right;\">\n",
       "      <th></th>\n",
       "      <th>ages</th>\n",
       "      <th>country</th>\n",
       "      <th>education</th>\n",
       "      <th>names</th>\n",
       "      <th>woman</th>\n",
       "    </tr>\n",
       "  </thead>\n",
       "  <tbody>\n",
       "    <tr>\n",
       "      <th>0</th>\n",
       "      <td>32</td>\n",
       "      <td>Chile</td>\n",
       "      <td>Bach</td>\n",
       "      <td>Tomás</td>\n",
       "      <td>False</td>\n",
       "    </tr>\n",
       "    <tr>\n",
       "      <th>1</th>\n",
       "      <td>33</td>\n",
       "      <td>Senegal</td>\n",
       "      <td>Bach</td>\n",
       "      <td>Pauline</td>\n",
       "      <td>True</td>\n",
       "    </tr>\n",
       "    <tr>\n",
       "      <th>2</th>\n",
       "      <td>28</td>\n",
       "      <td>Spain</td>\n",
       "      <td>Master</td>\n",
       "      <td>Pablo</td>\n",
       "      <td>False</td>\n",
       "    </tr>\n",
       "    <tr>\n",
       "      <th>3</th>\n",
       "      <td>30</td>\n",
       "      <td>Norway</td>\n",
       "      <td>PhD</td>\n",
       "      <td>Bjork</td>\n",
       "      <td>False</td>\n",
       "    </tr>\n",
       "    <tr>\n",
       "      <th>4</th>\n",
       "      <td>32</td>\n",
       "      <td>Peru</td>\n",
       "      <td>Bach</td>\n",
       "      <td>Alan</td>\n",
       "      <td>False</td>\n",
       "    </tr>\n",
       "    <tr>\n",
       "      <th>5</th>\n",
       "      <td>27</td>\n",
       "      <td>Peru</td>\n",
       "      <td>Master</td>\n",
       "      <td>Juana</td>\n",
       "      <td>True</td>\n",
       "    </tr>\n",
       "  </tbody>\n",
       "</table>\n",
       "</div>"
      ],
      "text/plain": [
       "   ages  country education    names  woman\n",
       "0    32    Chile      Bach    Tomás  False\n",
       "1    33  Senegal      Bach  Pauline   True\n",
       "2    28    Spain    Master    Pablo  False\n",
       "3    30   Norway       PhD    Bjork  False\n",
       "4    32     Peru      Bach     Alan  False\n",
       "5    27     Peru    Master    Juana   True"
      ]
     },
     "execution_count": 3,
     "metadata": {},
     "output_type": "execute_result"
    }
   ],
   "source": [
    "from pandas import DataFrame as df # calling a function from the library and renaming the function name\n",
    "\n",
    "friends=df.from_dict(data)\n",
    "friends"
   ]
  },
  {
   "cell_type": "code",
   "execution_count": 28,
   "metadata": {},
   "outputs": [
    {
     "data": {
      "text/plain": [
       "2    Spain\n",
       "Name: country, dtype: object"
      ]
     },
     "execution_count": 28,
     "metadata": {},
     "output_type": "execute_result"
    }
   ],
   "source": [
    "# where is the youngest male in the group from?\n",
    "\n",
    "# Find the answer using sort_values()\n",
    "friends[friends.woman==False].sort_values('ages', ascending=True).head(1).country"
   ]
  },
  {
   "cell_type": "code",
   "execution_count": 44,
   "metadata": {},
   "outputs": [
    {
     "data": {
      "text/plain": [
       "2    Spain\n",
       "Name: country, dtype: object"
      ]
     },
     "execution_count": 44,
     "metadata": {},
     "output_type": "execute_result"
    }
   ],
   "source": [
    "# Do some research and find the answer using where() and min()\n",
    "import pandas as pd\n",
    "\n",
    "a = min(friends.where(friends.woman==False).ages)\n",
    "friends[ages==a].country"
   ]
  },
  {
   "cell_type": "code",
   "execution_count": 51,
   "metadata": {},
   "outputs": [
    {
     "data": {
      "text/plain": [
       "2    Spain\n",
       "Name: country, dtype: object"
      ]
     },
     "execution_count": 51,
     "metadata": {},
     "output_type": "execute_result"
    }
   ],
   "source": [
    "# Do some research and find the answer using query() and min()\n",
    "\n",
    "a = min(friends.query('woman==False').ages)\n",
    "friends[ages==a].country"
   ]
  },
  {
   "cell_type": "code",
   "execution_count": null,
   "metadata": {
    "collapsed": true
   },
   "outputs": [],
   "source": []
  }
 ],
 "metadata": {
  "kernelspec": {
   "display_name": "Python 2",
   "language": "python",
   "name": "python2"
  },
  "language_info": {
   "codemirror_mode": {
    "name": "ipython",
    "version": 2
   },
   "file_extension": ".py",
   "mimetype": "text/x-python",
   "name": "python",
   "nbconvert_exporter": "python",
   "pygments_lexer": "ipython2",
   "version": "2.7.14"
  }
 },
 "nbformat": 4,
 "nbformat_minor": 2
}
